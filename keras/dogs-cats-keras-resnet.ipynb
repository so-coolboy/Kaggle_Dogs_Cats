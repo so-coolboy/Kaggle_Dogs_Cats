{
 "cells": [
  {
   "cell_type": "code",
   "execution_count": 1,
   "metadata": {
    "_cell_guid": "b1076dfc-b9ad-4769-8c92-a6c4dae69d19",
    "_uuid": "8f2839f25d086af736a60e9eeb907d3b93b6e0e5"
   },
   "outputs": [
    {
     "name": "stderr",
     "output_type": "stream",
     "text": [
      "Using TensorFlow backend.\n"
     ]
    }
   ],
   "source": [
    "import pandas as pd\n",
    "import numpy as np\n",
    "from PIL import Image\n",
    "from tqdm import tqdm\n",
    "import os\n",
    "import cv2\n",
    "\n",
    "from keras.preprocessing.image import ImageDataGenerator\n",
    "from keras.layers import Conv2D, MaxPool2D, Dropout, BatchNormalization, Dense, Activation, GlobalAveragePooling2D\n",
    "from keras.models import Model,Sequential\n",
    "from keras.regularizers import l2\n",
    "from keras.preprocessing.image import load_img,img_to_array\n",
    "from keras.optimizers import Adam\n",
    "from keras.callbacks import ModelCheckpoint\n",
    "from keras.layers import AveragePooling2D,Flatten,add,Input,MaxPooling2D,ZeroPadding2D"
   ]
  },
  {
   "cell_type": "code",
   "execution_count": 2,
   "metadata": {},
   "outputs": [
    {
     "data": {
      "text/html": [
       "<div>\n",
       "<style scoped>\n",
       "    .dataframe tbody tr th:only-of-type {\n",
       "        vertical-align: middle;\n",
       "    }\n",
       "\n",
       "    .dataframe tbody tr th {\n",
       "        vertical-align: top;\n",
       "    }\n",
       "\n",
       "    .dataframe thead th {\n",
       "        text-align: right;\n",
       "    }\n",
       "</style>\n",
       "<table border=\"1\" class=\"dataframe\">\n",
       "  <thead>\n",
       "    <tr style=\"text-align: right;\">\n",
       "      <th></th>\n",
       "      <th>id</th>\n",
       "      <th>label</th>\n",
       "    </tr>\n",
       "  </thead>\n",
       "  <tbody>\n",
       "    <tr>\n",
       "      <th>0</th>\n",
       "      <td>cat.11679.jpg</td>\n",
       "      <td>cat</td>\n",
       "    </tr>\n",
       "    <tr>\n",
       "      <th>1</th>\n",
       "      <td>dog.2811.jpg</td>\n",
       "      <td>dog</td>\n",
       "    </tr>\n",
       "    <tr>\n",
       "      <th>2</th>\n",
       "      <td>dog.2578.jpg</td>\n",
       "      <td>dog</td>\n",
       "    </tr>\n",
       "    <tr>\n",
       "      <th>3</th>\n",
       "      <td>dog.9238.jpg</td>\n",
       "      <td>dog</td>\n",
       "    </tr>\n",
       "    <tr>\n",
       "      <th>4</th>\n",
       "      <td>dog.7504.jpg</td>\n",
       "      <td>dog</td>\n",
       "    </tr>\n",
       "  </tbody>\n",
       "</table>\n",
       "</div>"
      ],
      "text/plain": [
       "              id label\n",
       "0  cat.11679.jpg   cat\n",
       "1   dog.2811.jpg   dog\n",
       "2   dog.2578.jpg   dog\n",
       "3   dog.9238.jpg   dog\n",
       "4   dog.7504.jpg   dog"
      ]
     },
     "execution_count": 2,
     "metadata": {},
     "output_type": "execute_result"
    }
   ],
   "source": [
    "#制作训练集的图片id和标签\n",
    "training_dir = '../input/train/'\n",
    "testing_dir = '../input/test/'\n",
    "\n",
    "train_files = os.listdir(training_dir)\n",
    "test_files = os.listdir(testing_dir)\n",
    "\n",
    "train_labels = []\n",
    "for file in train_files:\n",
    "    train_labels.append(file.split(\".\")[0])\n",
    "    \n",
    "df_train = pd.DataFrame({\"id\": train_files, \"label\": train_labels})\n",
    "df_train.head()"
   ]
  },
  {
   "cell_type": "code",
   "execution_count": 3,
   "metadata": {},
   "outputs": [
    {
     "data": {
      "text/html": [
       "<div>\n",
       "<style scoped>\n",
       "    .dataframe tbody tr th:only-of-type {\n",
       "        vertical-align: middle;\n",
       "    }\n",
       "\n",
       "    .dataframe tbody tr th {\n",
       "        vertical-align: top;\n",
       "    }\n",
       "\n",
       "    .dataframe thead th {\n",
       "        text-align: right;\n",
       "    }\n",
       "</style>\n",
       "<table border=\"1\" class=\"dataframe\">\n",
       "  <thead>\n",
       "    <tr style=\"text-align: right;\">\n",
       "      <th></th>\n",
       "      <th>id</th>\n",
       "      <th>label</th>\n",
       "    </tr>\n",
       "  </thead>\n",
       "  <tbody>\n",
       "    <tr>\n",
       "      <th>0</th>\n",
       "      <td>3090.jpg</td>\n",
       "      <td>cat</td>\n",
       "    </tr>\n",
       "    <tr>\n",
       "      <th>1</th>\n",
       "      <td>8785.jpg</td>\n",
       "      <td>cat</td>\n",
       "    </tr>\n",
       "    <tr>\n",
       "      <th>2</th>\n",
       "      <td>10679.jpg</td>\n",
       "      <td>cat</td>\n",
       "    </tr>\n",
       "    <tr>\n",
       "      <th>3</th>\n",
       "      <td>7247.jpg</td>\n",
       "      <td>cat</td>\n",
       "    </tr>\n",
       "    <tr>\n",
       "      <th>4</th>\n",
       "      <td>8151.jpg</td>\n",
       "      <td>cat</td>\n",
       "    </tr>\n",
       "  </tbody>\n",
       "</table>\n",
       "</div>"
      ],
      "text/plain": [
       "          id label\n",
       "0   3090.jpg   cat\n",
       "1   8785.jpg   cat\n",
       "2  10679.jpg   cat\n",
       "3   7247.jpg   cat\n",
       "4   8151.jpg   cat"
      ]
     },
     "execution_count": 3,
     "metadata": {},
     "output_type": "execute_result"
    }
   ],
   "source": [
    "df_test = pd.DataFrame({\"id\": test_files})\n",
    "df_test[\"label\"] = [\"cat\"]*(len(test_files))\n",
    "df_test.head()"
   ]
  },
  {
   "cell_type": "code",
   "execution_count": 4,
   "metadata": {
    "_cell_guid": "79c7e3d0-c299-4dcb-8224-4455121ee9b0",
    "_uuid": "d629ff2d2480ee46fbb7e2d37f6b5fab8052498a"
   },
   "outputs": [],
   "source": [
    "#制作keras数据生成器\n",
    "classes = ['cat', 'dog']\n",
    "\n",
    "def get_data(batch_size=32, target_size=(96,96), class_mode=\"categorical\", training_dir=training_dir,\n",
    "             testing_dir=testing_dir, classes=classes, df_train=df_train, df_test=df_test):\n",
    "    \n",
    "    train_datagen = ImageDataGenerator(horizontal_flip=True, shear_range=0.2,zoom_range=0.2,\n",
    "        rescale=1.0/255,validation_split=0.25)\n",
    "    test_datagen = ImageDataGenerator(rescale=1.0/255)\n",
    "    \n",
    "    train_generator = train_datagen.flow_from_dataframe(df_train, training_dir, x_col='id', y_col='label', \n",
    "        has_ext=True, target_size=target_size, classes = classes, class_mode=class_mode, \n",
    "        batch_size=batch_size, shuffle=True, seed=42,subset='training')\n",
    "    \n",
    "    validation_generator = train_datagen.flow_from_dataframe(df_train, training_dir, x_col='id', y_col='label', \n",
    "        has_ext=True, target_size=target_size, classes = classes, class_mode=class_mode, \n",
    "        batch_size=batch_size, shuffle=True, seed=42, subset='validation')\n",
    "\n",
    "    test_generator = test_datagen.flow_from_dataframe(df_test, testing_dir, x_col='id', y_col='label', \n",
    "        has_ext=True, target_size=target_size, classes = classes, class_mode=class_mode, \n",
    "        batch_size=batch_size, shuffle=False)\n",
    "    \n",
    "    steps_per_epoch = len(train_generator)\n",
    "    validation_steps = len(validation_generator)\n",
    "    \n",
    "    return train_generator, validation_generator, test_generator,  steps_per_epoch, validation_steps"
   ]
  },
  {
   "cell_type": "code",
   "execution_count": 5,
   "metadata": {},
   "outputs": [],
   "source": [
    "#接下来定义网络结构，这里仿照resnet的结构进行定义。\n",
    "#先定义卷积-BN结构\n",
    "def Conv2d_BN(x, nb_filter,kernel_size, strides=(1,1), padding='same'):\n",
    "    x = Conv2D(nb_filter,kernel_size,padding=padding,strides=strides,activation='relu')(x)\n",
    "    x = BatchNormalization(axis=3)(x)\n",
    "    return x\n",
    "\n",
    "#定义resnet的残差结构，其中with_conv_shortcut参数是使用卷积防止通道不一致。\n",
    "def Conv_Block(inpt,nb_filter,kernel_size,strides=(1,1), with_conv_shortcut=False):\n",
    "    x = Conv2d_BN(inpt, nb_filter=nb_filter, kernel_size=kernel_size, strides=strides, padding='same')\n",
    "    x = Conv2d_BN(x, nb_filter=nb_filter, kernel_size=kernel_size, padding='same')\n",
    "    if with_conv_shortcut:\n",
    "        shortcut = Conv2d_BN(inpt, nb_filter=nb_filter, strides=strides, kernel_size=kernel_size)\n",
    "        x = add([x, shortcut])\n",
    "        return x\n",
    "    else:\n",
    "        x = add([x, inpt])\n",
    "        return x\n",
    "    \n",
    "    #定义resnet网络结构\n",
    "def Resnet():\n",
    "    inpt = Input(shape=(299,299,3))\n",
    "    x = ZeroPadding2D((3, 3))(inpt)\n",
    "    x = Conv2d_BN(x, nb_filter=64, kernel_size=(7, 7), strides=(2, 2), padding='valid')\n",
    "    x = MaxPooling2D(pool_size=(3, 3), strides=(2, 2), padding='same')(x)\n",
    "    # (56,56,64)\n",
    "    x = Conv_Block(x, nb_filter=64, kernel_size=(3, 3))\n",
    "    x = Conv_Block(x, nb_filter=64, kernel_size=(3, 3))\n",
    "    x = Conv_Block(x, nb_filter=64, kernel_size=(3, 3))\n",
    "    # (28,28,128)\n",
    "    x = Conv_Block(x, nb_filter=128, kernel_size=(3, 3), strides=(2, 2), with_conv_shortcut=True)\n",
    "    x = Conv_Block(x, nb_filter=128, kernel_size=(3, 3))\n",
    "    x = Conv_Block(x, nb_filter=128, kernel_size=(3, 3))\n",
    "    x = Conv_Block(x, nb_filter=128, kernel_size=(3, 3))\n",
    "    # (14,14,256)\n",
    "    x = Conv_Block(x, nb_filter=256, kernel_size=(3, 3), strides=(2, 2), with_conv_shortcut=True)\n",
    "    x = Conv_Block(x, nb_filter=256, kernel_size=(3, 3))\n",
    "    x = Conv_Block(x, nb_filter=256, kernel_size=(3, 3))\n",
    "    x = Conv_Block(x, nb_filter=256, kernel_size=(3, 3))\n",
    "    x = Conv_Block(x, nb_filter=256, kernel_size=(3, 3))\n",
    "    x = Conv_Block(x, nb_filter=256, kernel_size=(3, 3))\n",
    "    # (7,7,512)\n",
    "    x = Conv_Block(x, nb_filter=512, kernel_size=(3, 3), strides=(2, 2), with_conv_shortcut=True)\n",
    "    x = Conv_Block(x, nb_filter=512, kernel_size=(3, 3))\n",
    "    x = Conv_Block(x, nb_filter=512, kernel_size=(3, 3))\n",
    "    x = AveragePooling2D(pool_size=(7, 7))(x)\n",
    "    x = Flatten()(x)\n",
    "    x = Dense(2, activation='softmax')(x)\n",
    " \n",
    "    model = Model(inpt,x)\n",
    "    #model.summary()\n",
    "    return model"
   ]
  },
  {
   "cell_type": "code",
   "execution_count": 6,
   "metadata": {},
   "outputs": [
    {
     "name": "stdout",
     "output_type": "stream",
     "text": [
      "Found 18750 images belonging to 2 classes.\n",
      "Found 6250 images belonging to 2 classes.\n",
      "Found 12500 images belonging to 2 classes.\n",
      "WARNING:tensorflow:From /opt/conda/lib/python3.6/site-packages/tensorflow/python/framework/op_def_library.py:263: colocate_with (from tensorflow.python.framework.ops) is deprecated and will be removed in a future version.\n",
      "Instructions for updating:\n",
      "Colocations handled automatically by placer.\n",
      "WARNING:tensorflow:From /opt/conda/lib/python3.6/site-packages/tensorflow/python/ops/math_ops.py:3066: to_int32 (from tensorflow.python.ops.math_ops) is deprecated and will be removed in a future version.\n",
      "Instructions for updating:\n",
      "Use tf.cast instead.\n",
      "Epoch 1/3\n",
      "586/586 [==============================] - 608s 1s/step - loss: 0.6558 - acc: 0.6579 - val_loss: 1.0184 - val_acc: 0.5957\n",
      "Epoch 2/3\n",
      "586/586 [==============================] - 547s 934ms/step - loss: 0.4867 - acc: 0.7634 - val_loss: 0.5469 - val_acc: 0.7283\n",
      "Epoch 3/3\n",
      "586/586 [==============================] - 556s 949ms/step - loss: 0.3740 - acc: 0.8281 - val_loss: 0.4235 - val_acc: 0.8112\n"
     ]
    }
   ],
   "source": [
    "#读取数据\n",
    "batch_size = 32\n",
    "target_size = (299, 299)\n",
    "train_generator, validation_generator, test_generator, steps_per_epoch, validation_steps = get_data(batch_size=batch_size, target_size=target_size, classes=classes, df_test=df_test)\n",
    "#建立模型\n",
    "model = Resnet()\n",
    "optimizer = Adam(0.0001)\n",
    "model.compile(optimizer=optimizer, loss='categorical_crossentropy', metrics=['accuracy'] )\n",
    "checkpoint = ModelCheckpoint('model.hdf5', monitor='val_acc', save_best_only=True)\n",
    "callbacks = [checkpoint]\n",
    "#开始训练\n",
    "history = model.fit_generator(\n",
    "    train_generator,\n",
    "    steps_per_epoch=steps_per_epoch,\n",
    "    epochs=3,\n",
    "    verbose=1,\n",
    "    callbacks=callbacks,\n",
    "    validation_data=validation_generator,\n",
    "    validation_steps=validation_steps)"
   ]
  },
  {
   "cell_type": "code",
   "execution_count": 7,
   "metadata": {},
   "outputs": [
    {
     "name": "stdout",
     "output_type": "stream",
     "text": [
      "391/391 [==============================] - 93s 238ms/step\n"
     ]
    }
   ],
   "source": [
    "def generate_result(model, test_generator, nsteps=len(test_generator)):\n",
    "    y_preds = model.predict_generator(test_generator, steps=nsteps, verbose=1) \n",
    "    return y_preds, y_preds[:,1]\n",
    "\n",
    "y_preds_all, y_preds = generate_result(model, test_generator)       "
   ]
  },
  {
   "cell_type": "code",
   "execution_count": 8,
   "metadata": {},
   "outputs": [
    {
     "data": {
      "text/html": [
       "<div>\n",
       "<style scoped>\n",
       "    .dataframe tbody tr th:only-of-type {\n",
       "        vertical-align: middle;\n",
       "    }\n",
       "\n",
       "    .dataframe tbody tr th {\n",
       "        vertical-align: top;\n",
       "    }\n",
       "\n",
       "    .dataframe thead th {\n",
       "        text-align: right;\n",
       "    }\n",
       "</style>\n",
       "<table border=\"1\" class=\"dataframe\">\n",
       "  <thead>\n",
       "    <tr style=\"text-align: right;\">\n",
       "      <th></th>\n",
       "      <th>id</th>\n",
       "      <th>label</th>\n",
       "    </tr>\n",
       "  </thead>\n",
       "  <tbody>\n",
       "    <tr>\n",
       "      <th>2322</th>\n",
       "      <td>1</td>\n",
       "      <td>0.953567</td>\n",
       "    </tr>\n",
       "    <tr>\n",
       "      <th>5025</th>\n",
       "      <td>2</td>\n",
       "      <td>0.991942</td>\n",
       "    </tr>\n",
       "    <tr>\n",
       "      <th>2481</th>\n",
       "      <td>3</td>\n",
       "      <td>0.920165</td>\n",
       "    </tr>\n",
       "    <tr>\n",
       "      <th>5068</th>\n",
       "      <td>4</td>\n",
       "      <td>0.875813</td>\n",
       "    </tr>\n",
       "    <tr>\n",
       "      <th>3495</th>\n",
       "      <td>5</td>\n",
       "      <td>0.016661</td>\n",
       "    </tr>\n",
       "  </tbody>\n",
       "</table>\n",
       "</div>"
      ],
      "text/plain": [
       "      id     label\n",
       "2322   1  0.953567\n",
       "5025   2  0.991942\n",
       "2481   3  0.920165\n",
       "5068   4  0.875813\n",
       "3495   5  0.016661"
      ]
     },
     "execution_count": 8,
     "metadata": {},
     "output_type": "execute_result"
    }
   ],
   "source": [
    "df_test = pd.DataFrame({\"id\": test_generator.filenames, \"label\": y_preds})\n",
    "df_test['id'] = df_test['id'].map(lambda x: x.split('.')[0])\n",
    "df_test['id'] = df_test['id'].astype(int)\n",
    "df_test = df_test.sort_values('id')\n",
    "df_test.to_csv('submission.csv', index=False)\n",
    "df_test.head()"
   ]
  }
 ],
 "metadata": {
  "kernelspec": {
   "display_name": "Python 3",
   "language": "python",
   "name": "python3"
  },
  "language_info": {
   "codemirror_mode": {
    "name": "ipython",
    "version": 3
   },
   "file_extension": ".py",
   "mimetype": "text/x-python",
   "name": "python",
   "nbconvert_exporter": "python",
   "pygments_lexer": "ipython3",
   "version": "3.6.4"
  }
 },
 "nbformat": 4,
 "nbformat_minor": 1
}
