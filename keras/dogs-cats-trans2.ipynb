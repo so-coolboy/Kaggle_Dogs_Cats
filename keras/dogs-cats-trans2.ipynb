{
 "cells": [
  {
   "cell_type": "code",
   "execution_count": 1,
   "metadata": {
    "_cell_guid": "b1076dfc-b9ad-4769-8c92-a6c4dae69d19",
    "_uuid": "8f2839f25d086af736a60e9eeb907d3b93b6e0e5"
   },
   "outputs": [
    {
     "name": "stderr",
     "output_type": "stream",
     "text": [
      "Using TensorFlow backend.\n"
     ]
    }
   ],
   "source": [
    "import os\n",
    "import random\n",
    "import time\n",
    "import datetime\n",
    "import numpy as np\n",
    "import pandas as pd\n",
    "import re\n",
    "\n",
    "from keras.preprocessing.image import ImageDataGenerator\n",
    "from keras.models import Model,Sequential\n",
    "from keras.layers import Conv2D, GlobalAveragePooling2D, Dense\n",
    "from keras.applications.inception_v3 import InceptionV3\n",
    "from keras.optimizers import Adam, SGD\n",
    "from keras import backend as K\n",
    "from keras.callbacks import ModelCheckpoint, EarlyStopping, TensorBoard, ReduceLROnPlateau\n",
    "\n",
    "from sklearn.model_selection import train_test_split\n",
    "from sklearn.utils import class_weight as cw\n",
    "import seaborn as sns\n",
    "import matplotlib.pyplot as plt\n",
    "%matplotlib inline"
   ]
  },
  {
   "cell_type": "code",
   "execution_count": 2,
   "metadata": {},
   "outputs": [
    {
     "data": {
      "text/html": [
       "<div>\n",
       "<style scoped>\n",
       "    .dataframe tbody tr th:only-of-type {\n",
       "        vertical-align: middle;\n",
       "    }\n",
       "\n",
       "    .dataframe tbody tr th {\n",
       "        vertical-align: top;\n",
       "    }\n",
       "\n",
       "    .dataframe thead th {\n",
       "        text-align: right;\n",
       "    }\n",
       "</style>\n",
       "<table border=\"1\" class=\"dataframe\">\n",
       "  <thead>\n",
       "    <tr style=\"text-align: right;\">\n",
       "      <th></th>\n",
       "      <th>id</th>\n",
       "      <th>label</th>\n",
       "    </tr>\n",
       "  </thead>\n",
       "  <tbody>\n",
       "    <tr>\n",
       "      <th>0</th>\n",
       "      <td>cat.11679.jpg</td>\n",
       "      <td>cat</td>\n",
       "    </tr>\n",
       "    <tr>\n",
       "      <th>1</th>\n",
       "      <td>dog.2811.jpg</td>\n",
       "      <td>dog</td>\n",
       "    </tr>\n",
       "    <tr>\n",
       "      <th>2</th>\n",
       "      <td>dog.2578.jpg</td>\n",
       "      <td>dog</td>\n",
       "    </tr>\n",
       "    <tr>\n",
       "      <th>3</th>\n",
       "      <td>dog.9238.jpg</td>\n",
       "      <td>dog</td>\n",
       "    </tr>\n",
       "    <tr>\n",
       "      <th>4</th>\n",
       "      <td>dog.7504.jpg</td>\n",
       "      <td>dog</td>\n",
       "    </tr>\n",
       "  </tbody>\n",
       "</table>\n",
       "</div>"
      ],
      "text/plain": [
       "              id label\n",
       "0  cat.11679.jpg   cat\n",
       "1   dog.2811.jpg   dog\n",
       "2   dog.2578.jpg   dog\n",
       "3   dog.9238.jpg   dog\n",
       "4   dog.7504.jpg   dog"
      ]
     },
     "execution_count": 2,
     "metadata": {},
     "output_type": "execute_result"
    }
   ],
   "source": [
    "training_dir = '../input/train/'\n",
    "testing_dir = '../input/test/'\n",
    "\n",
    "train_files = os.listdir(training_dir)\n",
    "test_files = os.listdir(testing_dir)\n",
    "\n",
    "train_labels = []\n",
    "for file in train_files:\n",
    "    train_labels.append(file.split(\".\")[0])\n",
    "    \n",
    "df_train = pd.DataFrame({\"id\": train_files, \"label\": train_labels})\n",
    "df_train.head()"
   ]
  },
  {
   "cell_type": "code",
   "execution_count": 3,
   "metadata": {},
   "outputs": [
    {
     "data": {
      "text/html": [
       "<div>\n",
       "<style scoped>\n",
       "    .dataframe tbody tr th:only-of-type {\n",
       "        vertical-align: middle;\n",
       "    }\n",
       "\n",
       "    .dataframe tbody tr th {\n",
       "        vertical-align: top;\n",
       "    }\n",
       "\n",
       "    .dataframe thead th {\n",
       "        text-align: right;\n",
       "    }\n",
       "</style>\n",
       "<table border=\"1\" class=\"dataframe\">\n",
       "  <thead>\n",
       "    <tr style=\"text-align: right;\">\n",
       "      <th></th>\n",
       "      <th>id</th>\n",
       "      <th>label</th>\n",
       "    </tr>\n",
       "  </thead>\n",
       "  <tbody>\n",
       "    <tr>\n",
       "      <th>0</th>\n",
       "      <td>3090.jpg</td>\n",
       "      <td>cat</td>\n",
       "    </tr>\n",
       "    <tr>\n",
       "      <th>1</th>\n",
       "      <td>8785.jpg</td>\n",
       "      <td>cat</td>\n",
       "    </tr>\n",
       "    <tr>\n",
       "      <th>2</th>\n",
       "      <td>10679.jpg</td>\n",
       "      <td>cat</td>\n",
       "    </tr>\n",
       "    <tr>\n",
       "      <th>3</th>\n",
       "      <td>7247.jpg</td>\n",
       "      <td>cat</td>\n",
       "    </tr>\n",
       "    <tr>\n",
       "      <th>4</th>\n",
       "      <td>8151.jpg</td>\n",
       "      <td>cat</td>\n",
       "    </tr>\n",
       "  </tbody>\n",
       "</table>\n",
       "</div>"
      ],
      "text/plain": [
       "          id label\n",
       "0   3090.jpg   cat\n",
       "1   8785.jpg   cat\n",
       "2  10679.jpg   cat\n",
       "3   7247.jpg   cat\n",
       "4   8151.jpg   cat"
      ]
     },
     "execution_count": 3,
     "metadata": {},
     "output_type": "execute_result"
    }
   ],
   "source": [
    "df_test = pd.DataFrame({\"id\": test_files})\n",
    "df_test[\"label\"] = [\"cat\"]*(len(test_files))\n",
    "df_test.head()"
   ]
  },
  {
   "cell_type": "code",
   "execution_count": 4,
   "metadata": {},
   "outputs": [],
   "source": [
    "#制作keras数据生成器\n",
    "classes = ['cat', 'dog']\n",
    "\n",
    "def get_data(batch_size=32, target_size=(96,96), class_mode=\"categorical\", training_dir=training_dir,\n",
    "             testing_dir=testing_dir, classes=classes, df_train=df_train, df_test=df_test):\n",
    "    \n",
    "    train_datagen = ImageDataGenerator(horizontal_flip=True, shear_range=0.2,zoom_range=0.2,\n",
    "        rescale=1.0/255,validation_split=0.25)\n",
    "    test_datagen = ImageDataGenerator(rescale=1.0/255)\n",
    "    \n",
    "    train_generator = train_datagen.flow_from_dataframe(df_train, training_dir, x_col='id', y_col='label', \n",
    "        has_ext=True, target_size=target_size, classes = classes, class_mode=class_mode, \n",
    "        batch_size=batch_size, shuffle=True, seed=42,subset='training')\n",
    "    \n",
    "    validation_generator = train_datagen.flow_from_dataframe(df_train, training_dir, x_col='id', y_col='label', \n",
    "        has_ext=True, target_size=target_size, classes = classes, class_mode=class_mode, \n",
    "        batch_size=batch_size, shuffle=True, seed=42, subset='validation')\n",
    "\n",
    "    test_generator = test_datagen.flow_from_dataframe(df_test, testing_dir, x_col='id', y_col='label', \n",
    "        has_ext=True, target_size=target_size, classes = classes, class_mode=class_mode, \n",
    "        batch_size=batch_size, shuffle=False)\n",
    "    \n",
    "    class_weights = get_weight(train_generator.classes)\n",
    "    steps_per_epoch = len(train_generator)\n",
    "    validation_steps = len(validation_generator)\n",
    "    \n",
    "    return train_generator, validation_generator, test_generator, class_weights, steps_per_epoch, validation_steps\n",
    "\n",
    "def get_weight(y):\n",
    "    class_weight_current =  cw.compute_class_weight('balanced', np.unique(y), y)\n",
    "    return class_weight_current"
   ]
  },
  {
   "cell_type": "code",
   "execution_count": 5,
   "metadata": {},
   "outputs": [],
   "source": [
    "#画出模型的损失和预测的精度\n",
    "def plot_performance(history=None, figure_directory=None):\n",
    "    xlabel = 'Epoch'\n",
    "    legends = ['Training', 'Validation']\n",
    "    ylim_pad = [0.01, 0.1]\n",
    "\n",
    "    plt.figure(figsize=(15, 5))\n",
    "    y1 = history.history['acc']\n",
    "    y2 = history.history['val_acc']\n",
    "\n",
    "    min_y = min(min(y1), min(y2))-ylim_pad[0]\n",
    "    max_y = max(max(y1), max(y2))+ylim_pad[0]\n",
    "    \n",
    "    plt.subplot(121)\n",
    "    plt.plot(y1)\n",
    "    plt.plot(y2)\n",
    "\n",
    "    plt.title('Model Accuracy\\n', fontsize=17)\n",
    "    plt.xlabel(xlabel, fontsize=15)\n",
    "    plt.ylabel('Accuracy', fontsize=15)\n",
    "    plt.ylim(min_y, max_y)\n",
    "    plt.legend(legends, loc='upper left')\n",
    "    plt.grid()\n",
    "\n",
    "    y1 = history.history['loss']\n",
    "    y2 = history.history['val_loss']\n",
    "\n",
    "    min_y = min(min(y1), min(y2))-ylim_pad[1]\n",
    "    max_y = max(max(y1), max(y2))+ylim_pad[1]\n",
    "\n",
    "    plt.subplot(122)\n",
    "    plt.plot(y1)\n",
    "    plt.plot(y2)\n",
    "\n",
    "    plt.title('Model Loss\\n', fontsize=17)\n",
    "    plt.xlabel(xlabel, fontsize=15)\n",
    "    plt.ylabel('Loss', fontsize=15)\n",
    "    plt.ylim(min_y, max_y)\n",
    "    plt.legend(legends, loc='upper left')\n",
    "    plt.grid()\n",
    "    \n",
    "    plt.show()"
   ]
  },
  {
   "cell_type": "code",
   "execution_count": 6,
   "metadata": {},
   "outputs": [
    {
     "data": {
      "text/plain": [
       "('models/', [], 'logs/', [])"
      ]
     },
     "execution_count": 6,
     "metadata": {},
     "output_type": "execute_result"
    }
   ],
   "source": [
    "#制作存储模型和日志的文件夹\n",
    "model_dir = r\"models/\"\n",
    "log_dir = r\"logs/\"\n",
    "\n",
    "os.mkdir(model_dir)\n",
    "os.mkdir(log_dir)\n",
    "\n",
    "model_file = model_dir + \"{epoch:02d}-val_acc-{val_acc:.2f}-val_loss-{val_loss:.2f}.hdf5\"\n",
    "model_dir, os.listdir(model_dir), log_dir, os.listdir(log_dir)"
   ]
  },
  {
   "cell_type": "code",
   "execution_count": 7,
   "metadata": {},
   "outputs": [],
   "source": [
    "#设置keras的回调函数\n",
    "checkpoint = ModelCheckpoint(model_file, monitor='val_acc', save_best_only=True)\n",
    "tensorboard = TensorBoard(log_dir=log_dir, update_freq='batch')\n",
    "early_stopping = EarlyStopping(monitor='val_loss', patience=2, verbose=1, restore_best_weights=True)\n",
    "reduce_lr = ReduceLROnPlateau(monitor='val_loss', factor=0.5, patience=1, verbose=1)\n",
    "callbacks = [reduce_lr, early_stopping, checkpoint]"
   ]
  },
  {
   "cell_type": "code",
   "execution_count": 8,
   "metadata": {},
   "outputs": [
    {
     "name": "stdout",
     "output_type": "stream",
     "text": [
      "Found 18750 images belonging to 2 classes.\n",
      "Found 6250 images belonging to 2 classes.\n",
      "Found 12500 images belonging to 2 classes.\n",
      "WARNING:tensorflow:From /opt/conda/lib/python3.6/site-packages/tensorflow/python/framework/op_def_library.py:263: colocate_with (from tensorflow.python.framework.ops) is deprecated and will be removed in a future version.\n",
      "Instructions for updating:\n",
      "Colocations handled automatically by placer.\n",
      "Downloading data from https://github.com/fchollet/deep-learning-models/releases/download/v0.5/inception_v3_weights_tf_dim_ordering_tf_kernels_notop.h5\n",
      "87916544/87910968 [==============================] - 1s 0us/step\n",
      "WARNING:tensorflow:From /opt/conda/lib/python3.6/site-packages/tensorflow/python/ops/math_ops.py:3066: to_int32 (from tensorflow.python.ops.math_ops) is deprecated and will be removed in a future version.\n",
      "Instructions for updating:\n",
      "Use tf.cast instead.\n",
      "Epoch 1/30\n",
      "586/586 [==============================] - 541s 924ms/step - loss: 0.1173 - acc: 0.9591 - val_loss: 0.0829 - val_acc: 0.9750\n",
      "Epoch 2/30\n",
      "586/586 [==============================] - 495s 845ms/step - loss: 0.0880 - acc: 0.9683 - val_loss: 0.0662 - val_acc: 0.9781\n",
      "Epoch 3/30\n",
      "586/586 [==============================] - 494s 843ms/step - loss: 0.0749 - acc: 0.9715 - val_loss: 0.0386 - val_acc: 0.9867\n",
      "Epoch 4/30\n",
      "586/586 [==============================] - 486s 830ms/step - loss: 0.0753 - acc: 0.9714 - val_loss: 0.0592 - val_acc: 0.9819\n",
      "\n",
      "Epoch 00004: ReduceLROnPlateau reducing learning rate to 4.999999873689376e-05.\n",
      "Epoch 5/30\n",
      "586/586 [==============================] - 485s 828ms/step - loss: 0.0619 - acc: 0.9763 - val_loss: 0.1386 - val_acc: 0.9568\n",
      "\n",
      "Epoch 00005: ReduceLROnPlateau reducing learning rate to 2.499999936844688e-05.\n",
      "Restoring model weights from the end of the best epoch\n",
      "Epoch 00005: early stopping\n",
      "\n",
      "Elapsed Time: 00:42:15\n"
     ]
    }
   ],
   "source": [
    "#读取数据\n",
    "batch_size = 32\n",
    "target_size = (299, 299)\n",
    "train_generator, validation_generator, test_generator, class_weights, steps_per_epoch, validation_steps = get_data(batch_size=batch_size, target_size=target_size, classes=classes, df_test=df_test)\n",
    "#建立模型\n",
    "base_model = InceptionV3(weights='imagenet', include_top=False)\n",
    "x = base_model.output\n",
    "x = GlobalAveragePooling2D()(x)\n",
    "x = Dense(1024, activation='relu')(x)\n",
    "predictions = Dense(2, activation='softmax')(x)\n",
    "model = Model(inputs=base_model.input, outputs=predictions)\n",
    "\n",
    "for layer in base_model.layers:\n",
    "    layer.trainable = False\n",
    "\n",
    "optimizer = Adam(0.0001)\n",
    "model.compile(optimizer=optimizer, loss='categorical_crossentropy', metrics=['accuracy'] )\n",
    "#开始训练\n",
    "start_time = time.time()\n",
    "history = model.fit_generator(\n",
    "    train_generator,\n",
    "    steps_per_epoch=steps_per_epoch,\n",
    "    epochs=30,\n",
    "    verbose=1,\n",
    "    callbacks=callbacks,\n",
    "    validation_data=validation_generator,\n",
    "    validation_steps=validation_steps, \n",
    "    class_weight=class_weights)\n",
    "\n",
    "elapsed_time = time.time() - start_time\n",
    "elapsed_time = time.strftime(\"%H:%M:%S\", time.gmtime(elapsed_time))\n",
    "print(\"\\nElapsed Time: \" + elapsed_time)"
   ]
  },
  {
   "cell_type": "code",
   "execution_count": 9,
   "metadata": {},
   "outputs": [
    {
     "data": {
      "image/png": "[encoded data removed]",
      "text/plain": [
       "<Figure size 1080x360 with 2 Axes>"
      ]
     },
     "metadata": {},
     "output_type": "display_data"
    }
   ],
   "source": [
    "#画出模型的精度和损失\n",
    "plot_performance(history=history)"
   ]
  },
  {
   "cell_type": "code",
   "execution_count": 10,
   "metadata": {},
   "outputs": [
    {
     "name": "stdout",
     "output_type": "stream",
     "text": [
      "391/391 [==============================] - 82s 210ms/step\n"
     ]
    }
   ],
   "source": [
    "def generate_result(model, test_generator, nsteps=len(test_generator)):\n",
    "    y_preds = model.predict_generator(test_generator, steps=nsteps, verbose=1) \n",
    "    return y_preds, y_preds[:,1]\n",
    "\n",
    "y_preds_all, y_preds = generate_result(model, test_generator)"
   ]
  },
  {
   "cell_type": "code",
   "execution_count": 11,
   "metadata": {},
   "outputs": [
    {
     "data": {
      "text/html": [
       "<div>\n",
       "<style scoped>\n",
       "    .dataframe tbody tr th:only-of-type {\n",
       "        vertical-align: middle;\n",
       "    }\n",
       "\n",
       "    .dataframe tbody tr th {\n",
       "        vertical-align: top;\n",
       "    }\n",
       "\n",
       "    .dataframe thead th {\n",
       "        text-align: right;\n",
       "    }\n",
       "</style>\n",
       "<table border=\"1\" class=\"dataframe\">\n",
       "  <thead>\n",
       "    <tr style=\"text-align: right;\">\n",
       "      <th></th>\n",
       "      <th>id</th>\n",
       "      <th>label</th>\n",
       "    </tr>\n",
       "  </thead>\n",
       "  <tbody>\n",
       "    <tr>\n",
       "      <th>2322</th>\n",
       "      <td>1</td>\n",
       "      <td>9.970809e-01</td>\n",
       "    </tr>\n",
       "    <tr>\n",
       "      <th>5025</th>\n",
       "      <td>2</td>\n",
       "      <td>9.998186e-01</td>\n",
       "    </tr>\n",
       "    <tr>\n",
       "      <th>2481</th>\n",
       "      <td>3</td>\n",
       "      <td>9.992398e-01</td>\n",
       "    </tr>\n",
       "    <tr>\n",
       "      <th>5068</th>\n",
       "      <td>4</td>\n",
       "      <td>9.989728e-01</td>\n",
       "    </tr>\n",
       "    <tr>\n",
       "      <th>3495</th>\n",
       "      <td>5</td>\n",
       "      <td>1.780241e-07</td>\n",
       "    </tr>\n",
       "  </tbody>\n",
       "</table>\n",
       "</div>"
      ],
      "text/plain": [
       "      id         label\n",
       "2322   1  9.970809e-01\n",
       "5025   2  9.998186e-01\n",
       "2481   3  9.992398e-01\n",
       "5068   4  9.989728e-01\n",
       "3495   5  1.780241e-07"
      ]
     },
     "execution_count": 11,
     "metadata": {},
     "output_type": "execute_result"
    }
   ],
   "source": [
    "df_test = pd.DataFrame({\"id\": test_generator.filenames, \"label\": y_preds})\n",
    "df_test['id'] = df_test['id'].map(lambda x: x.split('.')[0])\n",
    "df_test['id'] = df_test['id'].astype(int)\n",
    "df_test = df_test.sort_values('id')\n",
    "df_test.to_csv('submission.csv', index=False)\n",
    "df_test.head()"
   ]
  }
 ],
 "metadata": {
  "kernelspec": {
   "display_name": "Python 3",
   "language": "python",
   "name": "python3"
  },
  "language_info": {
   "codemirror_mode": {
    "name": "ipython",
    "version": 3
   },
   "file_extension": ".py",
   "mimetype": "text/x-python",
   "name": "python",
   "nbconvert_exporter": "python",
   "pygments_lexer": "ipython3",
   "version": "3.6.4"
  }
 },
 "nbformat": 4,
 "nbformat_minor": 1
}
